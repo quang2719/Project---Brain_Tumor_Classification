{
 "cells": [
  {
   "cell_type": "markdown",
   "metadata": {},
   "source": [
    "# Reading data"
   ]
  },
  {
   "cell_type": "code",
   "execution_count": 11,
   "metadata": {},
   "outputs": [],
   "source": [
    "import os\n",
    "import cv2"
   ]
  },
  {
   "cell_type": "code",
   "execution_count": 7,
   "metadata": {},
   "outputs": [],
   "source": [
    "folder_path = '../new_data_update_1108/'\n",
    "have_tumor = folder_path + '1'\n",
    "no_tumor =folder_path + '0'\n"
   ]
  },
  {
   "cell_type": "code",
   "execution_count": 10,
   "metadata": {},
   "outputs": [
    {
     "name": "stdout",
     "output_type": "stream",
     "text": [
      "have tumor: ['BTH30F20210218_10.png', 'BTH30F20210218_16.png', 'BTH30F20210218_17.png', 'BTH30F20210218_18.png', 'BTH30F20210218_19.png']\n",
      "1591\n",
      "have no tumor: ['BTN46F20210114_12.png', 'BTN46F20210114_13.png', 'BTN46F20210114_14.png', 'BTN46F20210114_15.png', 'BTN46F20210114_16.png']\n",
      "1963\n"
     ]
    }
   ],
   "source": [
    "have_tumor_img = os.listdir(have_tumor)\n",
    "no_tumor_img = os.listdir(no_tumor)\n",
    "print(f'have tumor: {have_tumor_img[:5]}')\n",
    "print(len(have_tumor_img))\n",
    "print(f'have no tumor: {no_tumor_img[:5]}')\n",
    "print(len(no_tumor_img))"
   ]
  },
  {
   "cell_type": "code",
   "execution_count": 32,
   "metadata": {},
   "outputs": [],
   "source": [
    "dataset,label = [],[]\n",
    "for i,cur_dir in enumerate(have_tumor_img):\n",
    "    if cur_dir.split('.')[1] == 'png':\n",
    "        img_path = os.path.join(have_tumor,cur_dir)\n",
    "        img = cv2.imread(img_path)\n",
    "        dataset.append(img)\n",
    "        label.append(1)\n",
    "\n",
    "        "
   ]
  },
  {
   "cell_type": "code",
   "execution_count": 33,
   "metadata": {},
   "outputs": [
    {
     "name": "stdout",
     "output_type": "stream",
     "text": [
      "1591\n"
     ]
    }
   ],
   "source": [
    "print(len(dataset))"
   ]
  },
  {
   "cell_type": "code",
   "execution_count": 35,
   "metadata": {},
   "outputs": [],
   "source": [
    "for i,cur_dir in enumerate(no_tumor_img):\n",
    "    if cur_dir.split('.')[1] == 'png':\n",
    "        img_path = os.path.join(no_tumor,cur_dir)\n",
    "        img = cv2.imread(img_path)\n",
    "        dataset.append(img)\n",
    "        label.append(0)"
   ]
  },
  {
   "cell_type": "code",
   "execution_count": 38,
   "metadata": {},
   "outputs": [
    {
     "name": "stdout",
     "output_type": "stream",
     "text": [
      "1963\n",
      "1591\n"
     ]
    }
   ],
   "source": [
    "print(label.count(0))\n",
    "print(label.count(1))"
   ]
  },
  {
   "cell_type": "code",
   "execution_count": null,
   "metadata": {},
   "outputs": [],
   "source": []
  }
 ],
 "metadata": {
  "kernelspec": {
   "display_name": "Python 3",
   "language": "python",
   "name": "python3"
  },
  "language_info": {
   "codemirror_mode": {
    "name": "ipython",
    "version": 3
   },
   "file_extension": ".py",
   "mimetype": "text/x-python",
   "name": "python",
   "nbconvert_exporter": "python",
   "pygments_lexer": "ipython3",
   "version": "3.11.6"
  }
 },
 "nbformat": 4,
 "nbformat_minor": 2
}
